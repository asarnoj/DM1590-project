{
 "cells": [
  {
   "cell_type": "markdown",
   "id": "d5e3a12c",
   "metadata": {},
   "source": [
    "# Heart Disease Classifier – Final Project"
   ]
  },
  {
   "cell_type": "code",
   "execution_count": null,
   "id": "ec7eec1a",
   "metadata": {},
   "outputs": [],
   "source": [
    "# Import\n",
    "import pandas as pd\n",
    "import numpy as np"
   ]
  },
  {
   "cell_type": "markdown",
   "id": "ef8a01d0",
   "metadata": {},
   "source": [
    "## 1. Data Loading & Cleaning"
   ]
  },
  {
   "cell_type": "markdown",
   "id": "cb4b8d01",
   "metadata": {},
   "source": [
    "## 2. Exploratory Data Analysis (EDA)"
   ]
  },
  {
   "cell_type": "markdown",
   "id": "25734ed4",
   "metadata": {},
   "source": [
    "## 3. Unsupervised Learning: PCA + GMM"
   ]
  },
  {
   "cell_type": "markdown",
   "id": "0b0d306c",
   "metadata": {},
   "source": [
    "## 4. Supervised Learning: SVM, Random Forest, KNN"
   ]
  },
  {
   "cell_type": "markdown",
   "id": "b7faf468",
   "metadata": {},
   "source": [
    "## 5. Feature Selection & Feature Importance"
   ]
  },
  {
   "cell_type": "markdown",
   "id": "73edf7df",
   "metadata": {},
   "source": [
    "## 6. Evaluation: Accuracy, F1, Confusion Matrix\n"
   ]
  },
  {
   "cell_type": "markdown",
   "id": "335f1fd4",
   "metadata": {},
   "source": [
    "## 7. Conclusions & Discussion"
   ]
  }
 ],
 "metadata": {
  "kernelspec": {
   "display_name": ".venv",
   "language": "python",
   "name": "python3"
  },
  "language_info": {
   "codemirror_mode": {
    "name": "ipython",
    "version": 3
   },
   "file_extension": ".py",
   "mimetype": "text/x-python",
   "name": "python",
   "nbconvert_exporter": "python",
   "pygments_lexer": "ipython3",
   "version": "3.9.6"
  }
 },
 "nbformat": 4,
 "nbformat_minor": 5
}
