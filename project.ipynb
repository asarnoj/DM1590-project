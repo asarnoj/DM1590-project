{
 "cells": [
  {
   "cell_type": "markdown",
   "id": "d5e3a12c",
   "metadata": {},
   "source": [
    "# Heart Disease Classifier – Final Project"
   ]
  },
  {
   "cell_type": "markdown",
   "id": "ef8a01d0",
   "metadata": {},
   "source": [
    "## 1. Data Loading & Cleaning"
   ]
  },
  {
   "cell_type": "markdown",
   "id": "cb4b8d01",
   "metadata": {},
   "source": [
    "## 2. Exploratory Data Analysis (EDA)"
   ]
  },
  {
   "cell_type": "markdown",
   "id": "25734ed4",
   "metadata": {},
   "source": [
    "## 3. Unsupervised Learning: PCA + GMM"
   ]
  },
  {
   "cell_type": "markdown",
   "id": "0b0d306c",
   "metadata": {},
   "source": [
    "## 4. Supervised Learning: SVM, Random Forest, KNN"
   ]
  },
  {
   "cell_type": "markdown",
   "id": "b7faf468",
   "metadata": {},
   "source": [
    "## 5. Feature Selection & Feature Importance"
   ]
  },
  {
   "cell_type": "markdown",
   "id": "73edf7df",
   "metadata": {},
   "source": [
    "## 6. Evaluation: Accuracy, F1, Confusion Matrix\n"
   ]
  },
  {
   "cell_type": "markdown",
   "id": "335f1fd4",
   "metadata": {},
   "source": [
    "## 7. Conclusions & Discussion"
   ]
  }
 ],
 "metadata": {
  "language_info": {
   "name": "python"
  }
 },
 "nbformat": 4,
 "nbformat_minor": 5
}
